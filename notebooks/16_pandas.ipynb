{
 "cells": [
  {
   "cell_type": "code",
   "execution_count": 1,
   "metadata": {},
   "outputs": [],
   "source": [
    "import numpy as np\n",
    "import pandas as pd\n",
    "import matplotlib.pyplot as plt"
   ]
  },
  {
   "cell_type": "code",
   "execution_count": 2,
   "metadata": {},
   "outputs": [],
   "source": [
    "data = pd.read_csv(\"../results/wandb_export_2023-12-08T10_06_10.502-05_00.csv\")"
   ]
  },
  {
   "cell_type": "code",
   "execution_count": 5,
   "metadata": {},
   "outputs": [],
   "source": [
    "lora_data = data[data.adapter_config_string == \"lora\"]\n",
    "hf_lora_data = data[data.adapter_config_string == \"hf_lora\"]"
   ]
  },
  {
   "cell_type": "code",
   "execution_count": 10,
   "metadata": {},
   "outputs": [
    {
     "data": {
      "text/plain": [
       "1     81.7450\n",
       "2     84.6483\n",
       "4     83.4158\n",
       "8     84.1284\n",
       "9     84.3731\n",
       "12    84.2202\n",
       "15    84.3731\n",
       "17    84.4954\n",
       "18    84.1284\n",
       "20    84.7401\n",
       "22    84.9847\n",
       "23    84.9629\n",
       "24    84.2508\n",
       "25    83.9755\n",
       "27    84.2203\n",
       "29    85.0153\n",
       "Name: eval/accuracy, dtype: float64"
      ]
     },
     "execution_count": 10,
     "metadata": {},
     "output_type": "execute_result"
    }
   ],
   "source": [
    "lora_data['eval/accuracy']"
   ]
  },
  {
   "cell_type": "code",
   "execution_count": 11,
   "metadata": {},
   "outputs": [
    {
     "name": "stdout",
     "output_type": "stream",
     "text": [
      "Lora average accuracy: 84.22983124999999, std: 0.7829075805131783\n",
      "HF Lora average accuracy: 84.27886666666667, std: 0.3381348223641546\n"
     ]
    }
   ],
   "source": [
    "# average and std\n",
    "print(f\"Lora average accuracy: {lora_data['eval/accuracy'].mean()}, std: {lora_data['eval/accuracy'].std()}\")\n",
    "print(f\"HF Lora average accuracy: {hf_lora_data['eval/accuracy'].mean()}, std: {hf_lora_data['eval/accuracy'].std()}\")"
   ]
  },
  {
   "cell_type": "code",
   "execution_count": 15,
   "metadata": {},
   "outputs": [
    {
     "name": "stdout",
     "output_type": "stream",
     "text": [
      "Variance of 1 samples: nan\n",
      "Variance of 2 samples: 2.052943117818905\n",
      "Variance of 3 samples: 1.457153605492572\n",
      "Variance of 4 samples: 1.2648606678866512\n",
      "Variance of 5 samples: 1.16527713742268\n",
      "Variance of 6 samples: 1.0668671551166358\n",
      "Variance of 7 samples: 1.0015284775924085\n",
      "Variance of 8 samples: 0.9554584126966774\n",
      "Variance of 9 samples: 0.8963196845682024\n",
      "Variance of 10 samples: 0.8814428446838977\n"
     ]
    }
   ],
   "source": [
    "# check if variance converges\n",
    "for i in range(1, 11):\n",
    "    print(f\"Variance of {i} samples: {lora_data['eval/accuracy'].iloc[:i].std()}\")"
   ]
  },
  {
   "cell_type": "code",
   "execution_count": null,
   "metadata": {},
   "outputs": [],
   "source": []
  }
 ],
 "metadata": {
  "kernelspec": {
   "display_name": "peft_comparison",
   "language": "python",
   "name": "python3"
  },
  "language_info": {
   "codemirror_mode": {
    "name": "ipython",
    "version": 3
   },
   "file_extension": ".py",
   "mimetype": "text/x-python",
   "name": "python",
   "nbconvert_exporter": "python",
   "pygments_lexer": "ipython3",
   "version": "3.11.5"
  }
 },
 "nbformat": 4,
 "nbformat_minor": 2
}
