{
 "cells": [
  {
   "cell_type": "code",
   "execution_count": 3,
   "metadata": {},
   "outputs": [],
   "source": [
    "import torch\n",
    "import adapters\n",
    "\n",
    "from adapters import LlamaAdapterModel\n",
    "from transformers import AutoTokenizer"
   ]
  },
  {
   "cell_type": "code",
   "execution_count": 5,
   "metadata": {},
   "outputs": [],
   "source": [
    "tokenizer = AutoTokenizer.from_pretrained(\"meta-llama/Llama-2-7b-hf\")"
   ]
  },
  {
   "cell_type": "code",
   "execution_count": 6,
   "metadata": {},
   "outputs": [
    {
     "name": "stderr",
     "output_type": "stream",
     "text": [
      "Loading checkpoint shards: 100%|██████████| 2/2 [00:15<00:00,  7.76s/it]\n"
     ]
    }
   ],
   "source": [
    "model = LlamaAdapterModel.from_pretrained(\"meta-llama/Llama-2-7b-hf\")"
   ]
  },
  {
   "cell_type": "code",
   "execution_count": 17,
   "metadata": {},
   "outputs": [],
   "source": [
    "model.add_causal_lm_head(\"lm_head\")"
   ]
  },
  {
   "cell_type": "code",
   "execution_count": 22,
   "metadata": {},
   "outputs": [
    {
     "data": {
      "text/plain": [
       "LlamaAdapterModel(\n",
       "  (model): LlamaModel(\n",
       "    (embed_tokens): Embedding(32000, 4096)\n",
       "    (layers): ModuleList(\n",
       "      (0-31): 32 x LlamaDecoderLayerWithAdapters(\n",
       "        (self_attn): LlamaAttentionWithAdapters(\n",
       "          (q_proj): Linear(\n",
       "            in_features=4096, out_features=4096, bias=False\n",
       "            (loras): ModuleDict()\n",
       "          )\n",
       "          (k_proj): Linear(\n",
       "            in_features=4096, out_features=4096, bias=False\n",
       "            (loras): ModuleDict()\n",
       "          )\n",
       "          (v_proj): Linear(\n",
       "            in_features=4096, out_features=4096, bias=False\n",
       "            (loras): ModuleDict()\n",
       "          )\n",
       "          (o_proj): Linear(in_features=4096, out_features=4096, bias=False)\n",
       "          (rotary_emb): LlamaRotaryEmbedding()\n",
       "          (prefix_tuning): PrefixTuningShim(\n",
       "            (prefix_gates): ModuleDict()\n",
       "            (pool): PrefixTuningPool(\n",
       "              (prefix_tunings): ModuleDict()\n",
       "            )\n",
       "          )\n",
       "        )\n",
       "        (mlp): LlamaMLP(\n",
       "          (gate_proj): Linear(in_features=4096, out_features=11008, bias=False)\n",
       "          (up_proj): Linear(\n",
       "            in_features=4096, out_features=11008, bias=False\n",
       "            (loras): ModuleDict()\n",
       "          )\n",
       "          (down_proj): Linear(\n",
       "            in_features=11008, out_features=4096, bias=False\n",
       "            (loras): ModuleDict()\n",
       "          )\n",
       "          (act_fn): SiLUActivation()\n",
       "        )\n",
       "        (input_layernorm): LlamaRMSNorm()\n",
       "        (post_attention_layernorm): LlamaRMSNorm()\n",
       "        (attention_adapters): AdapterLayer(\n",
       "          (adapters): ModuleDict()\n",
       "          (adapter_fusion_layer): ModuleDict()\n",
       "        )\n",
       "        (output_adapters): AdapterLayer(\n",
       "          (adapters): ModuleDict()\n",
       "          (adapter_fusion_layer): ModuleDict()\n",
       "        )\n",
       "      )\n",
       "    )\n",
       "    (norm): LlamaRMSNorm()\n",
       "    (invertible_adapters): ModuleDict()\n",
       "    (shared_parameters): ModuleDict()\n",
       "    (prefix_tuning): PrefixTuningPool(\n",
       "      (prefix_tunings): ModuleDict()\n",
       "    )\n",
       "  )\n",
       "  (heads): ModuleDict(\n",
       "    (causal_lm): CausalLMHead(\n",
       "      (0): Linear(in_features=4096, out_features=32000, bias=False)\n",
       "    )\n",
       "  )\n",
       ")"
      ]
     },
     "execution_count": 22,
     "metadata": {},
     "output_type": "execute_result"
    }
   ],
   "source": [
    "adapters.init(model)"
   ]
  },
  {
   "cell_type": "code",
   "execution_count": 15,
   "metadata": {},
   "outputs": [
    {
     "data": {
      "text/plain": [
       "['_active_heads',\n",
       " '_convert_head_mask_to_5d',\n",
       " '_convert_to_flex_head',\n",
       " '_copy_lm_head_original_to_resized',\n",
       " '_get_resized_lm_head',\n",
       " '_get_used_heads',\n",
       " '_init_head_modules',\n",
       " 'active_head',\n",
       " 'add_causal_lm_head',\n",
       " 'add_classification_head',\n",
       " 'add_custom_head',\n",
       " 'add_prediction_head',\n",
       " 'add_prediction_head_from_config',\n",
       " 'delete_head',\n",
       " 'forward_head',\n",
       " 'get_head_mask',\n",
       " 'get_prediction_heads_config',\n",
       " 'head_types',\n",
       " 'heads',\n",
       " 'load_head',\n",
       " 'prune_heads',\n",
       " 'register_custom_head',\n",
       " 'save_all_heads',\n",
       " 'save_head']"
      ]
     },
     "execution_count": 15,
     "metadata": {},
     "output_type": "execute_result"
    }
   ],
   "source": [
    "[s for s in dir(model) if \"head\" in s]"
   ]
  },
  {
   "cell_type": "code",
   "execution_count": 23,
   "metadata": {},
   "outputs": [],
   "source": [
    "out = model.generate(tokenizer(\"The cat is\", return_tensors=\"pt\")[\"input_ids\"], max_length=20)"
   ]
  },
  {
   "cell_type": "code",
   "execution_count": 24,
   "metadata": {},
   "outputs": [
    {
     "data": {
      "text/plain": [
       "'<s> The cat isРСРoulevalu str siècleTest materadejkradeavenradebosebose étudesvä'"
      ]
     },
     "execution_count": 24,
     "metadata": {},
     "output_type": "execute_result"
    }
   ],
   "source": [
    "tokenizer.decode(out[0])"
   ]
  },
  {
   "cell_type": "code",
   "execution_count": 2,
   "metadata": {},
   "outputs": [
    {
     "name": "stderr",
     "output_type": "stream",
     "text": [
      "/mnt/shared_home/vlialin/miniconda3/envs/peft_comparison/lib/python3.10/site-packages/transformers/models/t5/tokenization_t5_fast.py:155: FutureWarning: This tokenizer was incorrectly instantiated with a model max length of 512 which will be corrected in Transformers v5.\n",
      "For now, this behavior is kept to avoid breaking backwards compatibility when padding/encoding with `truncation is True`.\n",
      "- Be aware that you SHOULD NOT rely on t5-base automatically truncating your input to 512 when padding/encoding.\n",
      "- If you want to encode/pad to sequences longer than 512 you can either instantiate this tokenizer with `model_max_length` or pass `max_length` when encoding/padding.\n",
      "- To avoid this warning, please instantiate this tokenizer with `model_max_length` set to your preferred value.\n",
      "  warnings.warn(\n",
      "Some weights of T5ForConditionalGeneration were not initialized from the model checkpoint at t5-base and are newly initialized: ['decoder.embed_tokens.weight', 'encoder.embed_tokens.weight', 'lm_head.weight']\n",
      "You should probably TRAIN this model on a down-stream task to be able to use it for predictions and inference.\n"
     ]
    },
    {
     "ename": "RuntimeError",
     "evalue": "data set to a tensor that requires gradients must be floating point or complex dtype",
     "output_type": "error",
     "traceback": [
      "\u001b[0;31m---------------------------------------------------------------------------\u001b[0m",
      "\u001b[0;31mRuntimeError\u001b[0m                              Traceback (most recent call last)",
      "\u001b[1;32m/mnt/shared_home/vlialin/documents/peft_comparison/notebooks/03_adapters_beta.ipynb Cell 2\u001b[0m line \u001b[0;36m1\n\u001b[1;32m      <a href='vscode-notebook-cell://ssh-remote%2Bshala/mnt/shared_home/vlialin/documents/peft_comparison/notebooks/03_adapters_beta.ipynb#W1sdnNjb2RlLXJlbW90ZQ%3D%3D?line=2'>3</a>\u001b[0m quantization_config \u001b[39m=\u001b[39m BitsAndBytesConfig(\n\u001b[1;32m      <a href='vscode-notebook-cell://ssh-remote%2Bshala/mnt/shared_home/vlialin/documents/peft_comparison/notebooks/03_adapters_beta.ipynb#W1sdnNjb2RlLXJlbW90ZQ%3D%3D?line=3'>4</a>\u001b[0m     \u001b[39m# load_in_4bit=True,\u001b[39;00m\n\u001b[1;32m      <a href='vscode-notebook-cell://ssh-remote%2Bshala/mnt/shared_home/vlialin/documents/peft_comparison/notebooks/03_adapters_beta.ipynb#W1sdnNjb2RlLXJlbW90ZQ%3D%3D?line=4'>5</a>\u001b[0m     \u001b[39m# bnb_4bit_compute_dtype=torch.bfloat16,\u001b[39;00m\n\u001b[0;32m   (...)\u001b[0m\n\u001b[1;32m      <a href='vscode-notebook-cell://ssh-remote%2Bshala/mnt/shared_home/vlialin/documents/peft_comparison/notebooks/03_adapters_beta.ipynb#W1sdnNjb2RlLXJlbW90ZQ%3D%3D?line=7'>8</a>\u001b[0m     load_in_8bit\u001b[39m=\u001b[39m\u001b[39mTrue\u001b[39;00m,\n\u001b[1;32m      <a href='vscode-notebook-cell://ssh-remote%2Bshala/mnt/shared_home/vlialin/documents/peft_comparison/notebooks/03_adapters_beta.ipynb#W1sdnNjb2RlLXJlbW90ZQ%3D%3D?line=8'>9</a>\u001b[0m )\n\u001b[1;32m     <a href='vscode-notebook-cell://ssh-remote%2Bshala/mnt/shared_home/vlialin/documents/peft_comparison/notebooks/03_adapters_beta.ipynb#W1sdnNjb2RlLXJlbW90ZQ%3D%3D?line=10'>11</a>\u001b[0m model \u001b[39m=\u001b[39m AutoModelForSeq2SeqLM\u001b[39m.\u001b[39mfrom_pretrained(\n\u001b[1;32m     <a href='vscode-notebook-cell://ssh-remote%2Bshala/mnt/shared_home/vlialin/documents/peft_comparison/notebooks/03_adapters_beta.ipynb#W1sdnNjb2RlLXJlbW90ZQ%3D%3D?line=11'>12</a>\u001b[0m     \u001b[39m\"\u001b[39m\u001b[39mt5-base\u001b[39m\u001b[39m\"\u001b[39m, quantization_config\u001b[39m=\u001b[39mquantization_config, torch_dtype\u001b[39m=\u001b[39mtorch\u001b[39m.\u001b[39mbfloat16)\n\u001b[0;32m---> <a href='vscode-notebook-cell://ssh-remote%2Bshala/mnt/shared_home/vlialin/documents/peft_comparison/notebooks/03_adapters_beta.ipynb#W1sdnNjb2RlLXJlbW90ZQ%3D%3D?line=12'>13</a>\u001b[0m adapters\u001b[39m.\u001b[39;49minit(model)\n\u001b[1;32m     <a href='vscode-notebook-cell://ssh-remote%2Bshala/mnt/shared_home/vlialin/documents/peft_comparison/notebooks/03_adapters_beta.ipynb#W1sdnNjb2RlLXJlbW90ZQ%3D%3D?line=13'>14</a>\u001b[0m model\u001b[39m.\u001b[39madd_adapter(\u001b[39m\"\u001b[39m\u001b[39madapter\u001b[39m\u001b[39m\"\u001b[39m, config\u001b[39m=\u001b[39m\u001b[39m\"\u001b[39m\u001b[39mpfeiffer\u001b[39m\u001b[39m\"\u001b[39m, set_active\u001b[39m=\u001b[39m\u001b[39mTrue\u001b[39;00m)\n\u001b[1;32m     <a href='vscode-notebook-cell://ssh-remote%2Bshala/mnt/shared_home/vlialin/documents/peft_comparison/notebooks/03_adapters_beta.ipynb#W1sdnNjb2RlLXJlbW90ZQ%3D%3D?line=14'>15</a>\u001b[0m model\u001b[39m.\u001b[39mtrain_adapter(\u001b[39m\"\u001b[39m\u001b[39madapter\u001b[39m\u001b[39m\"\u001b[39m)\n",
      "File \u001b[0;32m~/documents/peft_comparison/lib/adapters/src/adapters/wrappers/model.py:91\u001b[0m, in \u001b[0;36minit\u001b[0;34m(model, adapters_config)\u001b[0m\n\u001b[1;32m     88\u001b[0m             model\u001b[39m.\u001b[39m\u001b[39m__class__\u001b[39m \u001b[39m=\u001b[39m model_class\n\u001b[1;32m     90\u001b[0m \u001b[39m# Finally, initialize adapters\u001b[39;00m\n\u001b[0;32m---> 91\u001b[0m model\u001b[39m.\u001b[39;49minit_adapters(model\u001b[39m.\u001b[39;49mconfig, adapters_config)\n",
      "File \u001b[0;32m~/documents/peft_comparison/lib/adapters/src/adapters/model_mixin.py:1262\u001b[0m, in \u001b[0;36mModelWithHeadsAdaptersMixin.init_adapters\u001b[0;34m(self, model_config, adapters_config, add_prefix_tuning_pool)\u001b[0m\n\u001b[1;32m   1261\u001b[0m \u001b[39mdef\u001b[39;00m \u001b[39minit_adapters\u001b[39m(\u001b[39mself\u001b[39m, model_config, adapters_config, add_prefix_tuning_pool\u001b[39m=\u001b[39m\u001b[39mTrue\u001b[39;00m):\n\u001b[0;32m-> 1262\u001b[0m     \u001b[39msuper\u001b[39;49m()\u001b[39m.\u001b[39;49minit_adapters(model_config, adapters_config, add_prefix_tuning_pool\u001b[39m=\u001b[39;49madd_prefix_tuning_pool)\n\u001b[1;32m   1263\u001b[0m     \u001b[39mself\u001b[39m\u001b[39m.\u001b[39m_convert_to_flex_head \u001b[39m=\u001b[39m \u001b[39mFalse\u001b[39;00m\n",
      "File \u001b[0;32m~/documents/peft_comparison/lib/adapters/src/adapters/model_mixin.py:205\u001b[0m, in \u001b[0;36mEmbeddingAdaptersMixin.init_adapters\u001b[0;34m(self, model_config, adapters_config, **kwargs)\u001b[0m\n\u001b[1;32m    201\u001b[0m \u001b[39mself\u001b[39m\u001b[39m.\u001b[39m_active_embedding \u001b[39m=\u001b[39m \u001b[39m\"\u001b[39m\u001b[39mdefault\u001b[39m\u001b[39m\"\u001b[39m\n\u001b[1;32m    203\u001b[0m init_adapters_config(\u001b[39mself\u001b[39m, model_config, adapters_config)\n\u001b[0;32m--> 205\u001b[0m \u001b[39msuper\u001b[39;49m()\u001b[39m.\u001b[39;49minit_adapters(\u001b[39mself\u001b[39;49m\u001b[39m.\u001b[39;49mconfig, \u001b[39mself\u001b[39;49m\u001b[39m.\u001b[39;49madapters_config, \u001b[39m*\u001b[39;49m\u001b[39m*\u001b[39;49mkwargs)\n",
      "File \u001b[0;32m~/documents/peft_comparison/lib/adapters/src/adapters/model_mixin.py:395\u001b[0m, in \u001b[0;36mModelAdaptersMixin.init_adapters\u001b[0;34m(self, model_config, adapters_config, add_prefix_tuning_pool)\u001b[0m\n\u001b[1;32m    393\u001b[0m init_adapters_config(\u001b[39mself\u001b[39m, model_config, adapters_config)\n\u001b[1;32m    394\u001b[0m \u001b[39m# Initialize adapters in all submodules\u001b[39;00m\n\u001b[0;32m--> 395\u001b[0m \u001b[39mself\u001b[39;49m\u001b[39m.\u001b[39;49m_init_adapters_submodules(\u001b[39mself\u001b[39;49m\u001b[39m.\u001b[39;49mconfig, \u001b[39mself\u001b[39;49m\u001b[39m.\u001b[39;49madapters_config)\n\u001b[1;32m    397\u001b[0m \u001b[39m# Link all prefix tunings\u001b[39;00m\n\u001b[1;32m    398\u001b[0m \u001b[39mif\u001b[39;00m add_prefix_tuning_pool:\n",
      "File \u001b[0;32m~/documents/peft_comparison/lib/adapters/src/adapters/model_mixin.py:384\u001b[0m, in \u001b[0;36mModelAdaptersMixin._init_adapters_submodules\u001b[0;34m(self, model_config, adapters_config)\u001b[0m\n\u001b[1;32m    382\u001b[0m     \u001b[39mcontinue\u001b[39;00m\n\u001b[1;32m    383\u001b[0m \u001b[39mif\u001b[39;00m \u001b[39mhasattr\u001b[39m(module, \u001b[39m\"\u001b[39m\u001b[39minit_adapters\u001b[39m\u001b[39m\"\u001b[39m):\n\u001b[0;32m--> 384\u001b[0m     module\u001b[39m.\u001b[39;49minit_adapters(model_config, adapters_config)\n",
      "File \u001b[0;32m~/documents/peft_comparison/lib/adapters/src/adapters/models/t5/mixin_t5.py:22\u001b[0m, in \u001b[0;36mT5AttentionAdaptersMixin.init_adapters\u001b[0;34m(self, model_config, adapters_config)\u001b[0m\n\u001b[1;32m     20\u001b[0m \u001b[39mdef\u001b[39;00m \u001b[39minit_adapters\u001b[39m(\u001b[39mself\u001b[39m, model_config, adapters_config):\n\u001b[1;32m     21\u001b[0m     \u001b[39m# Wrap layers for LoRA\u001b[39;00m\n\u001b[0;32m---> 22\u001b[0m     \u001b[39mself\u001b[39m\u001b[39m.\u001b[39mq \u001b[39m=\u001b[39m LoRALinear\u001b[39m.\u001b[39;49mwrap(\u001b[39mself\u001b[39;49m\u001b[39m.\u001b[39;49mq, \u001b[39m\"\u001b[39;49m\u001b[39mselfattn\u001b[39;49m\u001b[39m\"\u001b[39;49m, model_config, adapters_config, attn_key\u001b[39m=\u001b[39;49m\u001b[39m\"\u001b[39;49m\u001b[39mq\u001b[39;49m\u001b[39m\"\u001b[39;49m, bias\u001b[39m=\u001b[39;49m\u001b[39mFalse\u001b[39;49;00m)\n\u001b[1;32m     23\u001b[0m     \u001b[39mself\u001b[39m\u001b[39m.\u001b[39mk \u001b[39m=\u001b[39m LoRALinear\u001b[39m.\u001b[39mwrap(\u001b[39mself\u001b[39m\u001b[39m.\u001b[39mk, \u001b[39m\"\u001b[39m\u001b[39mselfattn\u001b[39m\u001b[39m\"\u001b[39m, model_config, adapters_config, attn_key\u001b[39m=\u001b[39m\u001b[39m\"\u001b[39m\u001b[39mk\u001b[39m\u001b[39m\"\u001b[39m, bias\u001b[39m=\u001b[39m\u001b[39mFalse\u001b[39;00m)\n\u001b[1;32m     24\u001b[0m     \u001b[39mself\u001b[39m\u001b[39m.\u001b[39mv \u001b[39m=\u001b[39m LoRALinear\u001b[39m.\u001b[39mwrap(\u001b[39mself\u001b[39m\u001b[39m.\u001b[39mv, \u001b[39m\"\u001b[39m\u001b[39mselfattn\u001b[39m\u001b[39m\"\u001b[39m, model_config, adapters_config, attn_key\u001b[39m=\u001b[39m\u001b[39m\"\u001b[39m\u001b[39mv\u001b[39m\u001b[39m\"\u001b[39m, bias\u001b[39m=\u001b[39m\u001b[39mFalse\u001b[39;00m)\n",
      "File \u001b[0;32m~/documents/peft_comparison/lib/adapters/src/adapters/lora.py:256\u001b[0m, in \u001b[0;36mLinear.wrap\u001b[0;34m(cls, module, location_key, model_config, adapters_config, attn_key, **kwargs)\u001b[0m\n\u001b[1;32m    246\u001b[0m         kwargs[\u001b[39m\"\u001b[39m\u001b[39mbias\u001b[39m\u001b[39m\"\u001b[39m] \u001b[39m=\u001b[39m \u001b[39mhasattr\u001b[39m(module, \u001b[39m\"\u001b[39m\u001b[39mbias\u001b[39m\u001b[39m\"\u001b[39m) \u001b[39mand\u001b[39;00m module\u001b[39m.\u001b[39mbias \u001b[39mis\u001b[39;00m \u001b[39mnot\u001b[39;00m \u001b[39mNone\u001b[39;00m\n\u001b[1;32m    247\u001b[0m     new_module \u001b[39m=\u001b[39m \u001b[39mcls\u001b[39m(\n\u001b[1;32m    248\u001b[0m         module\u001b[39m.\u001b[39min_features,\n\u001b[1;32m    249\u001b[0m         module\u001b[39m.\u001b[39mout_features,\n\u001b[0;32m   (...)\u001b[0m\n\u001b[1;32m    254\u001b[0m         \u001b[39m*\u001b[39m\u001b[39m*\u001b[39mkwargs,\n\u001b[1;32m    255\u001b[0m     )\n\u001b[0;32m--> 256\u001b[0m new_module\u001b[39m.\u001b[39;49mweight\u001b[39m.\u001b[39;49mdata \u001b[39m=\u001b[39m module\u001b[39m.\u001b[39mweight\u001b[39m.\u001b[39mdata\n\u001b[1;32m    257\u001b[0m \u001b[39mif\u001b[39;00m module\u001b[39m.\u001b[39mbias \u001b[39mis\u001b[39;00m \u001b[39mnot\u001b[39;00m \u001b[39mNone\u001b[39;00m:\n\u001b[1;32m    258\u001b[0m     new_module\u001b[39m.\u001b[39mbias\u001b[39m.\u001b[39mdata \u001b[39m=\u001b[39m module\u001b[39m.\u001b[39mbias\u001b[39m.\u001b[39mdata\n",
      "\u001b[0;31mRuntimeError\u001b[0m: data set to a tensor that requires gradients must be floating point or complex dtype"
     ]
    }
   ],
   "source": [
    "tokenizer = AutoTokenizer.from_pretrained(\"meta-llama/Llama-2-7b\")\n",
    "# model = T5ForConditionalGeneration.from_pretrained(\"t5-base\")\n",
    "quantization_config = None\n",
    "# BitsAndBytesConfig(\n",
    "    # load_in_4bit=True,\n",
    "    # bnb_4bit_compute_dtype=torch.bfloat16,\n",
    "    # bnb_4bit_use_double_quant=True,\n",
    "    # bnb_4bit_quant_type=\"nf4\",\n",
    "    # load_in_8bit=True,\n",
    "# )\n",
    "\n",
    "model = AutoModelForSeq2SeqLM.from_pretrained(\n",
    "    \"t5-base\", quantization_config=quantization_config, torch_dtype=torch.bfloat16)\n",
    "adapters.init(model)\n",
    "model.add_adapter(\"adapter\", config=\"pfeiffer\", set_active=True)\n",
    "model.train_adapter(\"adapter\")"
   ]
  },
  {
   "cell_type": "code",
   "execution_count": 30,
   "metadata": {},
   "outputs": [
    {
     "data": {
      "text/plain": [
       "'<pad><extra_id_0></s></s>'"
      ]
     },
     "execution_count": 30,
     "metadata": {},
     "output_type": "execute_result"
    }
   ],
   "source": [
    "input_ids = tokenizer(\"Earth rotates around <extra_id_0>\", return_tensors=\"pt\").input_ids\n",
    "decoder_input_ids = tokenizer(\"<pad> <extra_id_0>\", return_tensors=\"pt\").input_ids\n",
    "\n",
    "out = model.generate(input_ids=input_ids, decoder_input_ids=decoder_input_ids)\n",
    "tokenizer.decode(out[0])"
   ]
  },
  {
   "cell_type": "code",
   "execution_count": null,
   "metadata": {},
   "outputs": [],
   "source": [
    "# model = T5AdapterModel.from_pretrained(\"t5-small\")\n",
    "# model.add_seq2seq_lm_head(\"lm_head\")"
   ]
  }
 ],
 "metadata": {
  "kernelspec": {
   "display_name": "peft_comparison",
   "language": "python",
   "name": "python3"
  },
  "language_info": {
   "codemirror_mode": {
    "name": "ipython",
    "version": 3
   },
   "file_extension": ".py",
   "mimetype": "text/x-python",
   "name": "python",
   "nbconvert_exporter": "python",
   "pygments_lexer": "ipython3",
   "version": "3.10.13"
  },
  "orig_nbformat": 4
 },
 "nbformat": 4,
 "nbformat_minor": 2
}
