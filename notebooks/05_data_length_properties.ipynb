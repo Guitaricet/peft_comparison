{
 "cells": [
  {
   "cell_type": "code",
   "execution_count": 13,
   "id": "b7d0d5ea-37f3-4351-baf7-8aa28a9160e2",
   "metadata": {},
   "outputs": [],
   "source": [
    "import numpy as np\n",
    "from datasets import load_dataset\n",
    "from transformers import AutoTokenizer\n",
    "from tqdm import tqdm"
   ]
  },
  {
   "cell_type": "code",
   "execution_count": 2,
   "id": "5cdaa554-c0bf-4c47-a972-47911b0d6d5f",
   "metadata": {},
   "outputs": [],
   "source": [
    "d_ = load_dataset(\"cnn_dailymail\", \"3.0.0\")"
   ]
  },
  {
   "cell_type": "code",
   "execution_count": 3,
   "id": "51f3099c-3f4e-4130-a824-a118f5cd0c1a",
   "metadata": {},
   "outputs": [
    {
     "data": {
      "text/plain": [
       "DatasetDict({\n",
       "    train: Dataset({\n",
       "        features: ['article', 'highlights', 'id'],\n",
       "        num_rows: 287113\n",
       "    })\n",
       "    validation: Dataset({\n",
       "        features: ['article', 'highlights', 'id'],\n",
       "        num_rows: 13368\n",
       "    })\n",
       "    test: Dataset({\n",
       "        features: ['article', 'highlights', 'id'],\n",
       "        num_rows: 11490\n",
       "    })\n",
       "})"
      ]
     },
     "execution_count": 3,
     "metadata": {},
     "output_type": "execute_result"
    }
   ],
   "source": [
    "d_"
   ]
  },
  {
   "cell_type": "code",
   "execution_count": 7,
   "id": "fa251dd1-068f-4279-b7b4-4618d900aa49",
   "metadata": {},
   "outputs": [
    {
     "name": "stderr",
     "output_type": "stream",
     "text": [
      "/mnt/shared_home/vdeshpande/miniconda3/envs/long_seq/lib/python3.9/site-packages/transformers-4.32.0-py3.9.egg/transformers/models/t5/tokenization_t5_fast.py:155: FutureWarning: This tokenizer was incorrectly instantiated with a model max length of 512 which will be corrected in Transformers v5.\n",
      "For now, this behavior is kept to avoid breaking backwards compatibility when padding/encoding with `truncation is True`.\n",
      "- Be aware that you SHOULD NOT rely on t5-base automatically truncating your input to 512 when padding/encoding.\n",
      "- If you want to encode/pad to sequences longer than 512 you can either instantiate this tokenizer with `model_max_length` or pass `max_length` when encoding/padding.\n",
      "- To avoid this warning, please instantiate this tokenizer with `model_max_length` set to your preferred value.\n",
      "  warnings.warn(\n"
     ]
    }
   ],
   "source": [
    "t_llama = AutoTokenizer.from_pretrained(\"meta-llama/Llama-2-7b-hf\")\n",
    "t_t5 = AutoTokenizer.from_pretrained(\"t5-base\")"
   ]
  },
  {
   "cell_type": "code",
   "execution_count": 15,
   "id": "c88c2fb1-e998-4f04-a82f-5393404e0821",
   "metadata": {},
   "outputs": [
    {
     "name": "stderr",
     "output_type": "stream",
     "text": [
      "  2%|██▉                                                                                                                                                                       | 5000/287113 [00:21<20:13, 232.46it/s]\n",
      " 37%|███████████████████████████████████████████████████████████████▉                                                                                                           | 5000/13368 [00:24<00:40, 206.90it/s]\n",
      " 44%|██████████████████████████████████████████████████████████████████████████▍                                                                                                | 5000/11490 [00:24<00:32, 202.37it/s]\n"
     ]
    },
    {
     "ename": "AttributeError",
     "evalue": "module 'numpy' has no attribute 'percentiles'",
     "output_type": "error",
     "traceback": [
      "\u001b[0;31m---------------------------------------------------------------------------\u001b[0m",
      "\u001b[0;31mAttributeError\u001b[0m                            Traceback (most recent call last)",
      "Cell \u001b[0;32mIn[15], line 25\u001b[0m\n\u001b[1;32m     22\u001b[0m             \u001b[38;5;28;01mbreak\u001b[39;00m\n\u001b[1;32m     24\u001b[0m \u001b[38;5;66;03m#\u001b[39;00m\n\u001b[0;32m---> 25\u001b[0m \u001b[38;5;28mprint\u001b[39m(\u001b[43mnp\u001b[49m\u001b[38;5;241;43m.\u001b[39;49m\u001b[43mpercentiles\u001b[49m(len_source_t5, [\u001b[38;5;241m0\u001b[39m, \u001b[38;5;241m25\u001b[39m, \u001b[38;5;241m50\u001b[39m, \u001b[38;5;241m75\u001b[39m, \u001b[38;5;241m99\u001b[39m, \u001b[38;5;241m100\u001b[39m]))\n",
      "File \u001b[0;32m~/miniconda3/envs/long_seq/lib/python3.9/site-packages/numpy-1.26.0b1-py3.9-linux-x86_64.egg/numpy/__init__.py:333\u001b[0m, in \u001b[0;36m__getattr__\u001b[0;34m(attr)\u001b[0m\n\u001b[1;32m    330\u001b[0m     \u001b[38;5;124m\"\u001b[39m\u001b[38;5;124mRemoved in NumPy 1.25.0\u001b[39m\u001b[38;5;124m\"\u001b[39m\n\u001b[1;32m    331\u001b[0m     \u001b[38;5;28;01mraise\u001b[39;00m \u001b[38;5;167;01mRuntimeError\u001b[39;00m(\u001b[38;5;124m\"\u001b[39m\u001b[38;5;124mTester was removed in NumPy 1.25.\u001b[39m\u001b[38;5;124m\"\u001b[39m)\n\u001b[0;32m--> 333\u001b[0m \u001b[38;5;28;01mraise\u001b[39;00m \u001b[38;5;167;01mAttributeError\u001b[39;00m(\u001b[38;5;124m\"\u001b[39m\u001b[38;5;124mmodule \u001b[39m\u001b[38;5;132;01m{!r}\u001b[39;00m\u001b[38;5;124m has no attribute \u001b[39m\u001b[38;5;124m\"\u001b[39m\n\u001b[1;32m    334\u001b[0m                      \u001b[38;5;124m\"\u001b[39m\u001b[38;5;132;01m{!r}\u001b[39;00m\u001b[38;5;124m\"\u001b[39m\u001b[38;5;241m.\u001b[39mformat(\u001b[38;5;18m__name__\u001b[39m, attr))\n",
      "\u001b[0;31mAttributeError\u001b[0m: module 'numpy' has no attribute 'percentiles'"
     ]
    }
   ],
   "source": [
    "len_source, len_source_t5, len_source_llama = [], [], []\n",
    "len_target, len_target_t5, len_target_llama = [], [], []\n",
    "\n",
    "\n",
    "for split in d_:\n",
    "    example_num = 0\n",
    "    for example in tqdm(d_[split]):\n",
    "        example_num += 1\n",
    "\n",
    "        #\n",
    "        len_source.append(example[\"article\"].split(\" \").__len__())\n",
    "        len_source_llama.append(t_llama(example[\"article\"])[\"input_ids\"].__len__())\n",
    "        len_source_t5.append(t_t5(example[\"article\"])[\"input_ids\"].__len__())\n",
    "        \n",
    "        #\n",
    "        len_target.append(example[\"highlights\"].split(\" \").__len__())\n",
    "        len_target_llama.append(t_llama(example[\"highlights\"])[\"input_ids\"].__len__())\n",
    "        len_target_t5.append(t_t5(example[\"highlights\"])[\"input_ids\"].__len__())\n",
    "\n",
    "        #\n",
    "        if example_num > 5000:\n",
    "            break\n",
    "\n",
    "#\n"
   ]
  },
  {
   "cell_type": "code",
   "execution_count": 17,
   "id": "23c3c848-1c74-42f9-908b-8c3aefa6d7c6",
   "metadata": {},
   "outputs": [
    {
     "name": "stdout",
     "output_type": "stream",
     "text": [
      "[  35.    478.    728.   1095.   2244.98 3688.  ]\n"
     ]
    }
   ],
   "source": [
    "print(np.percentile(len_source_t5, [0, 25, 50, 75, 99, 100]))"
   ]
  },
  {
   "cell_type": "code",
   "execution_count": 18,
   "id": "b1ca4175-55d5-47f1-ad16-34231bd966e6",
   "metadata": {},
   "outputs": [
    {
     "name": "stdout",
     "output_type": "stream",
     "text": [
      "[  18.    335.    513.    778.   1577.98 1918.  ]\n",
      "[  36.    492.    748.   1128.   2308.98 3534.  ]\n"
     ]
    }
   ],
   "source": [
    "print(np.percentile(len_source, [0, 25, 50, 75, 99, 100]))\n",
    "print(np.percentile(len_source_llama, [0, 25, 50, 75, 99, 100]))"
   ]
  },
  {
   "cell_type": "code",
   "execution_count": 19,
   "id": "f020872e-7b81-493f-a37f-2ad1cfa74982",
   "metadata": {},
   "outputs": [
    {
     "name": "stdout",
     "output_type": "stream",
     "text": [
      "[  9.    35.    42.    50.    92.98 550.  ]\n",
      "[ 12.  57.  70.  83. 150. 885.]\n",
      "[ 12.  54.  66.  78. 144. 780.]\n"
     ]
    }
   ],
   "source": [
    "print(np.percentile(len_target, [0, 25, 50, 75, 99, 100]))\n",
    "print(np.percentile(len_target_llama, [0, 25, 50, 75, 99, 100]))\n",
    "print(np.percentile(len_target_t5, [0, 25, 50, 75, 99, 100]))"
   ]
  },
  {
   "cell_type": "code",
   "execution_count": null,
   "id": "044f076d-2fef-4367-aac5-a157f57b4fdd",
   "metadata": {},
   "outputs": [],
   "source": [
    "for idx, val in enumerate()"
   ]
  }
 ],
 "metadata": {
  "kernelspec": {
   "display_name": "Python 3 (ipykernel)",
   "language": "python",
   "name": "python3"
  },
  "language_info": {
   "codemirror_mode": {
    "name": "ipython",
    "version": 3
   },
   "file_extension": ".py",
   "mimetype": "text/x-python",
   "name": "python",
   "nbconvert_exporter": "python",
   "pygments_lexer": "ipython3",
   "version": "3.9.17"
  }
 },
 "nbformat": 4,
 "nbformat_minor": 5
}
