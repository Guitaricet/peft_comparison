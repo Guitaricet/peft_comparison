{
 "cells": [
  {
   "cell_type": "code",
   "execution_count": 9,
   "metadata": {},
   "outputs": [],
   "source": [
    "from datasets import load_dataset\n",
    "\n",
    "from peft_comparison.text2text_utils import preprocess_glue_one_example\n",
    "from peft_comparison.mappings import clf_label_names_mapping"
   ]
  },
  {
   "cell_type": "code",
   "execution_count": 18,
   "metadata": {},
   "outputs": [
    {
     "name": "stderr",
     "output_type": "stream",
     "text": [
      "Map: 100%|██████████| 2490/2490 [00:00<00:00, 14111.34 examples/s]\n",
      "Map: 100%|██████████| 277/277 [00:00<00:00, 9466.80 examples/s]\n",
      "Map: 100%|██████████| 3000/3000 [00:00<00:00, 14371.95 examples/s]\n"
     ]
    }
   ],
   "source": [
    "dataset_name = \"rte\"\n",
    "raw_datasets = load_dataset(\"super_glue\", dataset_name)\n",
    "\n",
    "raw_datasets = raw_datasets.map(\n",
    "    preprocess_glue_one_example,\n",
    "    batched=False,\n",
    "    fn_kwargs={\"benchmark_name\": dataset_name, \"label_names\": clf_label_names_mapping[dataset_name]}\n",
    ")"
   ]
  },
  {
   "cell_type": "code",
   "execution_count": 1,
   "metadata": {},
   "outputs": [],
   "source": [
    "import evaluate"
   ]
  },
  {
   "cell_type": "code",
   "execution_count": 2,
   "metadata": {},
   "outputs": [],
   "source": [
    "metric = evaluate.load(\"rouge\")"
   ]
  },
  {
   "cell_type": "code",
   "execution_count": 4,
   "metadata": {},
   "outputs": [
    {
     "data": {
      "text/plain": [
       "'rouge'"
      ]
     },
     "execution_count": 4,
     "metadata": {},
     "output_type": "execute_result"
    }
   ],
   "source": [
    "metric.name"
   ]
  },
  {
   "cell_type": "code",
   "execution_count": null,
   "metadata": {},
   "outputs": [],
   "source": []
  }
 ],
 "metadata": {
  "kernelspec": {
   "display_name": "peft_conparison",
   "language": "python",
   "name": "peft_conparison"
  },
  "language_info": {
   "codemirror_mode": {
    "name": "ipython",
    "version": 3
   },
   "file_extension": ".py",
   "mimetype": "text/x-python",
   "name": "python",
   "nbconvert_exporter": "python",
   "pygments_lexer": "ipython3",
   "version": "3.11.5"
  },
  "orig_nbformat": 4
 },
 "nbformat": 4,
 "nbformat_minor": 2
}
