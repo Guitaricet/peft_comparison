{
 "cells": [
  {
   "cell_type": "code",
   "execution_count": 1,
   "metadata": {},
   "outputs": [
    {
     "name": "stderr",
     "output_type": "stream",
     "text": [
      "/home/public/vlialin/miniconda3/envs/peft_comparison/lib/python3.11/site-packages/tqdm/auto.py:21: TqdmWarning: IProgress not found. Please update jupyter and ipywidgets. See https://ipywidgets.readthedocs.io/en/stable/user_install.html\n",
      "  from .autonotebook import tqdm as notebook_tqdm\n"
     ]
    }
   ],
   "source": [
    "import torch\n",
    "from transformers import AutoTokenizer, T5ForConditionalGeneration, AutoConfig\n",
    "from adapters import LlamaAdapterModel, T5AdapterModel"
   ]
  },
  {
   "cell_type": "code",
   "execution_count": 2,
   "metadata": {},
   "outputs": [
    {
     "name": "stderr",
     "output_type": "stream",
     "text": [
      "/home/public/vlialin/miniconda3/envs/peft_comparison/lib/python3.11/site-packages/transformers/models/t5/tokenization_t5_fast.py:158: FutureWarning: This tokenizer was incorrectly instantiated with a model max length of 512 which will be corrected in Transformers v5.\n",
      "For now, this behavior is kept to avoid breaking backwards compatibility when padding/encoding with `truncation is True`.\n",
      "- Be aware that you SHOULD NOT rely on t5-3b automatically truncating your input to 512 when padding/encoding.\n",
      "- If you want to encode/pad to sequences longer than 512 you can either instantiate this tokenizer with `model_max_length` or pass `max_length` when encoding/padding.\n",
      "- To avoid this warning, please instantiate this tokenizer with `model_max_length` set to your preferred value.\n",
      "  warnings.warn(\n"
     ]
    }
   ],
   "source": [
    "tokenizer = AutoTokenizer.from_pretrained(\"t5-3b\")\n",
    "input_ = tokenizer(\"translate English to German: The house is wonderful.\", return_tensors=\"pt\")"
   ]
  },
  {
   "cell_type": "code",
   "execution_count": 4,
   "metadata": {},
   "outputs": [],
   "source": [
    "t5_config = AutoConfig.from_pretrained(\"./t5_debug\")\n",
    "model = T5AdapterModel(t5_config)\n",
    "# model = T5AdapterModel.from_pretrained(\"t5-3b\")\n",
    "model.add_seq2seq_lm_head(\"lm_head\")\n",
    "\n",
    "adapter_config_string = \"prefix_tuning[kv_size=128]\"\n",
    "\n",
    "model.add_adapter(\"adapter\", config=adapter_config_string, set_active=True)\n",
    "out = model(**input_, decoder_input_ids=input_[\"input_ids\"])"
   ]
  },
  {
   "cell_type": "code",
   "execution_count": 4,
   "metadata": {},
   "outputs": [],
   "source": [
    "t5_config = AutoConfig.from_pretrained(\"./t5_debug\")\n",
    "model = T5AdapterModel(t5_config)\n",
    "# model = T5AdapterModel.from_pretrained(\"t5-3b\")\n",
    "model.add_seq2seq_lm_head(\"lm_head\")\n",
    "\n",
    "adapter_config_string = \"prefix_tuning_flat[kv_size=128]\"\n",
    "\n",
    "model.add_adapter(\"adapter\", config=adapter_config_string, set_active=True)\n",
    "out = model(**input_, decoder_input_ids=input_[\"input_ids\"])"
   ]
  },
  {
   "cell_type": "code",
   "execution_count": 5,
   "metadata": {},
   "outputs": [
    {
     "ename": "TypeError",
     "evalue": "SeqBnConfig.__init__() got an unexpected keyword argument 'kv_size'",
     "output_type": "error",
     "traceback": [
      "\u001b[0;31m---------------------------------------------------------------------------\u001b[0m",
      "\u001b[0;31mTypeError\u001b[0m                                 Traceback (most recent call last)",
      "\u001b[1;32m/home/public/vlialin/peft_comparison/notebooks/12_debug_prefix_tuning.ipynb Cell 5\u001b[0m line \u001b[0;36m1\n\u001b[1;32m      <a href='vscode-notebook-cell://ssh-remote%2Bml1/home/public/vlialin/peft_comparison/notebooks/12_debug_prefix_tuning.ipynb#X12sdnNjb2RlLXJlbW90ZQ%3D%3D?line=5'>6</a>\u001b[0m model\u001b[39m.\u001b[39madd_seq2seq_lm_head(\u001b[39m\"\u001b[39m\u001b[39mlm_head\u001b[39m\u001b[39m\"\u001b[39m)\n\u001b[1;32m      <a href='vscode-notebook-cell://ssh-remote%2Bml1/home/public/vlialin/peft_comparison/notebooks/12_debug_prefix_tuning.ipynb#X12sdnNjb2RlLXJlbW90ZQ%3D%3D?line=7'>8</a>\u001b[0m adapter_config_string \u001b[39m=\u001b[39m \u001b[39m\"\u001b[39m\u001b[39munipelt[kv_size=128]\u001b[39m\u001b[39m\"\u001b[39m\n\u001b[0;32m---> <a href='vscode-notebook-cell://ssh-remote%2Bml1/home/public/vlialin/peft_comparison/notebooks/12_debug_prefix_tuning.ipynb#X12sdnNjb2RlLXJlbW90ZQ%3D%3D?line=9'>10</a>\u001b[0m model\u001b[39m.\u001b[39;49madd_adapter(\u001b[39m\"\u001b[39;49m\u001b[39madapter\u001b[39;49m\u001b[39m\"\u001b[39;49m, config\u001b[39m=\u001b[39;49madapter_config_string, set_active\u001b[39m=\u001b[39;49m\u001b[39mTrue\u001b[39;49;00m)\n\u001b[1;32m     <a href='vscode-notebook-cell://ssh-remote%2Bml1/home/public/vlialin/peft_comparison/notebooks/12_debug_prefix_tuning.ipynb#X12sdnNjb2RlLXJlbW90ZQ%3D%3D?line=10'>11</a>\u001b[0m out \u001b[39m=\u001b[39m model(\u001b[39m*\u001b[39m\u001b[39m*\u001b[39minput_, decoder_input_ids\u001b[39m=\u001b[39minput_[\u001b[39m\"\u001b[39m\u001b[39minput_ids\u001b[39m\u001b[39m\"\u001b[39m])\n",
      "File \u001b[0;32m/home/public/vlialin/peft_comparison/adapter-transformers/src/adapters/model_mixin.py:1296\u001b[0m, in \u001b[0;36mModelWithHeadsAdaptersMixin.add_adapter\u001b[0;34m(self, adapter_name, config, overwrite_ok, set_active)\u001b[0m\n\u001b[1;32m   1294\u001b[0m     \u001b[39msuper\u001b[39m()\u001b[39m.\u001b[39madd_adapter(adapter_name, config, overwrite_ok\u001b[39m=\u001b[39moverwrite_ok, set_active\u001b[39m=\u001b[39mset_active)\n\u001b[1;32m   1295\u001b[0m \u001b[39melse\u001b[39;00m:\n\u001b[0;32m-> 1296\u001b[0m     \u001b[39mself\u001b[39;49m\u001b[39m.\u001b[39;49mbase_model\u001b[39m.\u001b[39;49madd_adapter(adapter_name, config, overwrite_ok\u001b[39m=\u001b[39;49moverwrite_ok, set_active\u001b[39m=\u001b[39;49mset_active)\n",
      "File \u001b[0;32m/home/public/vlialin/peft_comparison/adapter-transformers/src/adapters/model_mixin.py:531\u001b[0m, in \u001b[0;36mModelAdaptersMixin.add_adapter\u001b[0;34m(self, adapter_name, config, overwrite_ok, set_active)\u001b[0m\n\u001b[1;32m    514\u001b[0m \u001b[39mdef\u001b[39;00m \u001b[39madd_adapter\u001b[39m(\u001b[39mself\u001b[39m, adapter_name: \u001b[39mstr\u001b[39m, config\u001b[39m=\u001b[39m\u001b[39mNone\u001b[39;00m, overwrite_ok: \u001b[39mbool\u001b[39m \u001b[39m=\u001b[39m \u001b[39mFalse\u001b[39;00m, set_active: \u001b[39mbool\u001b[39m \u001b[39m=\u001b[39m \u001b[39mFalse\u001b[39;00m):\n\u001b[1;32m    515\u001b[0m \u001b[39m    \u001b[39m\u001b[39m\"\"\"\u001b[39;00m\n\u001b[1;32m    516\u001b[0m \u001b[39m    Adds a new adapter module of the specified type to the model.\u001b[39;00m\n\u001b[1;32m    517\u001b[0m \n\u001b[0;32m   (...)\u001b[0m\n\u001b[1;32m    529\u001b[0m \u001b[39m        the adapter is added but not activated.\u001b[39;00m\n\u001b[1;32m    530\u001b[0m \u001b[39m    \"\"\"\u001b[39;00m\n\u001b[0;32m--> 531\u001b[0m     config \u001b[39m=\u001b[39m AdapterConfigBase\u001b[39m.\u001b[39;49mload(config)  \u001b[39m# ensure config is ok and up-to-date\u001b[39;00m\n\u001b[1;32m    532\u001b[0m     \u001b[39m# In case adapter already exists and we allow overwriting, explicitly delete the existing one first\u001b[39;00m\n\u001b[1;32m    533\u001b[0m     \u001b[39mif\u001b[39;00m overwrite_ok \u001b[39mand\u001b[39;00m adapter_name \u001b[39min\u001b[39;00m \u001b[39mself\u001b[39m\u001b[39m.\u001b[39madapters_config:\n",
      "File \u001b[0;32m/home/public/vlialin/peft_comparison/adapter-transformers/src/adapters/configuration/adapter_config.py:118\u001b[0m, in \u001b[0;36mAdapterConfigBase.load\u001b[0;34m(cls, config, download_kwargs, **kwargs)\u001b[0m\n\u001b[1;32m    116\u001b[0m     config_dict \u001b[39m=\u001b[39m resolve_adapter_config(config, local_map\u001b[39m=\u001b[39mlocal_map, \u001b[39m*\u001b[39m\u001b[39m*\u001b[39mdownload_kwargs)\n\u001b[1;32m    117\u001b[0m \u001b[39melse\u001b[39;00m:\n\u001b[0;32m--> 118\u001b[0m     config_dict \u001b[39m=\u001b[39m resolve_adapter_config(config, local_map\u001b[39m=\u001b[39;49mlocal_map)\n\u001b[1;32m    119\u001b[0m \u001b[39m# convert back to dict to allow attr overrides\u001b[39;00m\n\u001b[1;32m    120\u001b[0m \u001b[39mif\u001b[39;00m \u001b[39misinstance\u001b[39m(config_dict, AdapterConfigBase):\n",
      "File \u001b[0;32m/home/public/vlialin/peft_comparison/adapter-transformers/src/adapters/utils.py:475\u001b[0m, in \u001b[0;36mresolve_adapter_config\u001b[0;34m(config, local_map, try_loading_from_hub, **kwargs)\u001b[0m\n\u001b[1;32m    473\u001b[0m \u001b[39mif\u001b[39;00m local_map \u001b[39mand\u001b[39;00m name \u001b[39min\u001b[39;00m local_map:\n\u001b[1;32m    474\u001b[0m     config_obj \u001b[39m=\u001b[39m local_map[name]\n\u001b[0;32m--> 475\u001b[0m     full_configs\u001b[39m.\u001b[39mappend(config_obj\u001b[39m.\u001b[39;49mreplace(\u001b[39m*\u001b[39;49m\u001b[39m*\u001b[39;49mconfig_kwargs))\n\u001b[1;32m    476\u001b[0m \u001b[39m# now, try to find in hub index\u001b[39;00m\n\u001b[1;32m    477\u001b[0m \u001b[39melif\u001b[39;00m try_loading_from_hub \u001b[39mand\u001b[39;00m name \u001b[39min\u001b[39;00m config_index:\n",
      "File \u001b[0;32m/home/public/vlialin/peft_comparison/adapter-transformers/src/adapters/configuration/adapter_config.py:540\u001b[0m, in \u001b[0;36mConfigUnion.replace\u001b[0;34m(self, **changes)\u001b[0m\n\u001b[1;32m    539\u001b[0m \u001b[39mdef\u001b[39;00m \u001b[39mreplace\u001b[39m(\u001b[39mself\u001b[39m, \u001b[39m*\u001b[39m\u001b[39m*\u001b[39mchanges):\n\u001b[0;32m--> 540\u001b[0m     \u001b[39mreturn\u001b[39;00m ConfigUnion(\u001b[39m*\u001b[39m[c\u001b[39m.\u001b[39;49mreplace(\u001b[39m*\u001b[39;49m\u001b[39m*\u001b[39;49mchanges) \u001b[39mfor\u001b[39;49;00m c \u001b[39min\u001b[39;49;00m \u001b[39mself\u001b[39;49m\u001b[39m.\u001b[39;49mconfigs])\n",
      "File \u001b[0;32m/home/public/vlialin/peft_comparison/adapter-transformers/src/adapters/configuration/adapter_config.py:540\u001b[0m, in \u001b[0;36m<listcomp>\u001b[0;34m(.0)\u001b[0m\n\u001b[1;32m    539\u001b[0m \u001b[39mdef\u001b[39;00m \u001b[39mreplace\u001b[39m(\u001b[39mself\u001b[39m, \u001b[39m*\u001b[39m\u001b[39m*\u001b[39mchanges):\n\u001b[0;32m--> 540\u001b[0m     \u001b[39mreturn\u001b[39;00m ConfigUnion(\u001b[39m*\u001b[39m[c\u001b[39m.\u001b[39;49mreplace(\u001b[39m*\u001b[39;49m\u001b[39m*\u001b[39;49mchanges) \u001b[39mfor\u001b[39;00m c \u001b[39min\u001b[39;00m \u001b[39mself\u001b[39m\u001b[39m.\u001b[39mconfigs])\n",
      "File \u001b[0;32m/home/public/vlialin/peft_comparison/adapter-transformers/src/adapters/configuration/adapter_config.py:55\u001b[0m, in \u001b[0;36mAdapterConfigBase.replace\u001b[0;34m(self, **changes)\u001b[0m\n\u001b[1;32m     53\u001b[0m \u001b[39mdef\u001b[39;00m \u001b[39mreplace\u001b[39m(\u001b[39mself\u001b[39m, \u001b[39m*\u001b[39m\u001b[39m*\u001b[39mchanges):\n\u001b[1;32m     54\u001b[0m \u001b[39m    \u001b[39m\u001b[39m\"\"\"Returns a new instance of the config class with the specified changes applied.\"\"\"\u001b[39;00m\n\u001b[0;32m---> 55\u001b[0m     \u001b[39mreturn\u001b[39;00m replace(\u001b[39mself\u001b[39;49m, \u001b[39m*\u001b[39;49m\u001b[39m*\u001b[39;49mchanges)\n",
      "File \u001b[0;32m/home/public/vlialin/miniconda3/envs/peft_comparison/lib/python3.11/dataclasses.py:1501\u001b[0m, in \u001b[0;36mreplace\u001b[0;34m(obj, **changes)\u001b[0m\n\u001b[1;32m   1494\u001b[0m         changes[f\u001b[39m.\u001b[39mname] \u001b[39m=\u001b[39m \u001b[39mgetattr\u001b[39m(obj, f\u001b[39m.\u001b[39mname)\n\u001b[1;32m   1496\u001b[0m \u001b[39m# Create the new object, which calls __init__() and\u001b[39;00m\n\u001b[1;32m   1497\u001b[0m \u001b[39m# __post_init__() (if defined), using all of the init fields we've\u001b[39;00m\n\u001b[1;32m   1498\u001b[0m \u001b[39m# added and/or left in 'changes'.  If there are values supplied in\u001b[39;00m\n\u001b[1;32m   1499\u001b[0m \u001b[39m# changes that aren't fields, this will correctly raise a\u001b[39;00m\n\u001b[1;32m   1500\u001b[0m \u001b[39m# TypeError.\u001b[39;00m\n\u001b[0;32m-> 1501\u001b[0m \u001b[39mreturn\u001b[39;00m obj\u001b[39m.\u001b[39;49m\u001b[39m__class__\u001b[39;49m(\u001b[39m*\u001b[39;49m\u001b[39m*\u001b[39;49mchanges)\n",
      "\u001b[0;31mTypeError\u001b[0m: SeqBnConfig.__init__() got an unexpected keyword argument 'kv_size'"
     ]
    }
   ],
   "source": [
    "# unipelt\n",
    "\n",
    "t5_config = AutoConfig.from_pretrained(\"./t5_debug\")\n",
    "model = T5AdapterModel(t5_config)\n",
    "# model = T5AdapterModel.from_pretrained(\"t5-3b\")\n",
    "model.add_seq2seq_lm_head(\"lm_head\")\n",
    "\n",
    "adapter_config_string = \"unipelt[kv_size=128]\"\n",
    "\n",
    "model.add_adapter(\"adapter\", config=adapter_config_string, set_active=True)\n",
    "out = model(**input_, decoder_input_ids=input_[\"input_ids\"])"
   ]
  },
  {
   "cell_type": "code",
   "execution_count": null,
   "metadata": {},
   "outputs": [],
   "source": []
  }
 ],
 "metadata": {
  "kernelspec": {
   "display_name": "peft_comparison",
   "language": "python",
   "name": "python3"
  },
  "language_info": {
   "codemirror_mode": {
    "name": "ipython",
    "version": 3
   },
   "file_extension": ".py",
   "mimetype": "text/x-python",
   "name": "python",
   "nbconvert_exporter": "python",
   "pygments_lexer": "ipython3",
   "version": "3.11.5"
  }
 },
 "nbformat": 4,
 "nbformat_minor": 2
}
