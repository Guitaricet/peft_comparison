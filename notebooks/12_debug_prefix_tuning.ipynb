{
 "cells": [
  {
   "cell_type": "code",
   "execution_count": 1,
   "metadata": {},
   "outputs": [
    {
     "name": "stderr",
     "output_type": "stream",
     "text": [
      "/home/public/vlialin/miniconda3/envs/peft_comparison/lib/python3.11/site-packages/tqdm/auto.py:21: TqdmWarning: IProgress not found. Please update jupyter and ipywidgets. See https://ipywidgets.readthedocs.io/en/stable/user_install.html\n",
      "  from .autonotebook import tqdm as notebook_tqdm\n"
     ]
    }
   ],
   "source": [
    "import torch\n",
    "from transformers import AutoTokenizer, T5ForConditionalGeneration, AutoConfig\n",
    "from adapters import LlamaAdapterModel, T5AdapterModel"
   ]
  },
  {
   "cell_type": "code",
   "execution_count": 2,
   "metadata": {},
   "outputs": [
    {
     "name": "stderr",
     "output_type": "stream",
     "text": [
      "/home/public/vlialin/miniconda3/envs/peft_comparison/lib/python3.11/site-packages/transformers/models/t5/tokenization_t5_fast.py:158: FutureWarning: This tokenizer was incorrectly instantiated with a model max length of 512 which will be corrected in Transformers v5.\n",
      "For now, this behavior is kept to avoid breaking backwards compatibility when padding/encoding with `truncation is True`.\n",
      "- Be aware that you SHOULD NOT rely on t5-3b automatically truncating your input to 512 when padding/encoding.\n",
      "- If you want to encode/pad to sequences longer than 512 you can either instantiate this tokenizer with `model_max_length` or pass `max_length` when encoding/padding.\n",
      "- To avoid this warning, please instantiate this tokenizer with `model_max_length` set to your preferred value.\n",
      "  warnings.warn(\n"
     ]
    }
   ],
   "source": [
    "tokenizer = AutoTokenizer.from_pretrained(\"t5-3b\")\n",
    "input_ = tokenizer(\"translate English to German: The house is wonderful.\", return_tensors=\"pt\")"
   ]
  },
  {
   "cell_type": "code",
   "execution_count": 3,
   "metadata": {},
   "outputs": [],
   "source": [
    "t5_config = AutoConfig.from_pretrained(\"./t5_debug\")\n",
    "model = T5AdapterModel(t5_config)\n",
    "# model = T5AdapterModel.from_pretrained(\"t5-3b\")\n",
    "model.add_seq2seq_lm_head(\"lm_head\")\n",
    "\n",
    "adapter_config_string = \"prefix_tuning[kv_size=128]\"\n",
    "\n",
    "model.add_adapter(\"adapter\", config=adapter_config_string, set_active=True)"
   ]
  },
  {
   "cell_type": "code",
   "execution_count": 5,
   "metadata": {},
   "outputs": [],
   "source": [
    "out = model(**input_, decoder_input_ids=input_[\"input_ids\"])"
   ]
  },
  {
   "cell_type": "code",
   "execution_count": 6,
   "metadata": {},
   "outputs": [],
   "source": [
    "t5_config = AutoConfig.from_pretrained(\"./t5_debug\")\n",
    "model = T5AdapterModel(t5_config)\n",
    "# model = T5AdapterModel.from_pretrained(\"t5-3b\")\n",
    "model.add_seq2seq_lm_head(\"lm_head\")\n",
    "\n",
    "adapter_config_string = \"prefix_tuning_flat[kv_size=128]\"\n",
    "\n",
    "model.add_adapter(\"adapter\", config=adapter_config_string, set_active=True)"
   ]
  },
  {
   "cell_type": "code",
   "execution_count": null,
   "metadata": {},
   "outputs": [],
   "source": []
  }
 ],
 "metadata": {
  "kernelspec": {
   "display_name": "peft_comparison",
   "language": "python",
   "name": "python3"
  },
  "language_info": {
   "codemirror_mode": {
    "name": "ipython",
    "version": 3
   },
   "file_extension": ".py",
   "mimetype": "text/x-python",
   "name": "python",
   "nbconvert_exporter": "python",
   "pygments_lexer": "ipython3",
   "version": "3.11.5"
  }
 },
 "nbformat": 4,
 "nbformat_minor": 2
}
